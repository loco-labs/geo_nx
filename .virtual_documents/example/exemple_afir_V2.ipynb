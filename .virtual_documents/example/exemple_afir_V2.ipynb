


import os
import sys

new_path = os.getcwd()[:-8]
sys.path.append(new_path)
from shapely import LineString, Point
import numpy as np
import geopandas as gpd
import pandas as pd
import geo_nx as gnx 
import networkx as nx 

from geo_nx import geom_to_crs, cast_id 





rtet = gpd.read_file("./roads_GL2017_Council_FR/roads_GL2017_Council_FR.shp").to_crs(2154)
gr = gnx.from_geopandas_edgelist(rtet, edge_attr=["GEO_LENGTH", "ID", "geometry"])


refnat = {'tiles': 'cartodbpositron', 'location': [46.3, 2.3], 'zoom_start': 7}
gr.explore(refmap=refnat, n_color='red')





# Chargement des points de recharge de la consolidation Gireve
csl = pd.read_csv("csl_gireve202407.csv", sep=";", encoding="latin")
csl["puissance_nominale"] = csl["puissance_nominale"].astype(float)

# Les stations respectant les critères AFIR sont obtenues après un groupby sur les coordonnées
stations = csl.groupby("coordonneesXY").agg(
    p_max = ("puissance_nominale", "max"), 
    p_cum = ("puissance_nominale", "sum"),
    id_station = ("id_pdc_regroupement", "first"),
    amenageur = ("nom_amenageur", "first"),
    operateur = ("nom_operateur", "first"))
stations_afir = stations[(stations["p_max"] > 150) & (stations["p_cum"] > 300)].copy().reset_index()
stations_afir['geometry'] = stations_afir["coordonneesXY"].apply(lambda x: Point(str.split(x, ',')))
stations_afir = gpd.GeoDataFrame(stations_afir, crs=4326).to_crs(2154)
stations_afir['node_id'] = ["st" + str(idx) for idx in range(len(stations_afir))]
stations_afir





proxi = 100 # distance maximale des stations au réseau routier
noeuds = gr.to_geopandas_nodelist()
troncons = gr.to_geopandas_edgelist()

sj_noeuds = gpd.sjoin(stations_afir, noeuds.set_geometry(noeuds.buffer(proxi))) # filtrage des noeuds
stations_afir_noeuds = stations_afir[stations_afir.index.isin(sj_noeuds.index)]
stations_afir_autre = stations_afir[~stations_afir.index.isin(sj_noeuds.index)]


sj_lin = gpd.sjoin(stations_afir_autre, troncons.set_geometry(troncons.buffer(proxi))) # filtrage des tronçons
stations_afir_lin = stations_afir_autre[stations_afir_autre.index.isin(sj_lin.index)]

print('Nb stations (noeuds, lin, tot) : ', len(stations_afir_noeuds), len(stations_afir_lin), len(stations_afir), len(sj_noeuds))





node_attr = ['amenageur', 'p_cum', 'id_station']
edge_attr = {'type': 'st_irve'}
gs_noeuds, stations_afir_autre2 = gnx.project_graph(stations_afir, noeuds, proxi, node_attr, edge_attr)
gs_lin = gnx.from_geopandas_nodelist(stations_afir_lin, node_id='node_id', node_attr=node_attr+['node_id'])
stations = list(stations_afir_lin['node_id'])

for station in stations: # non vectorisé pour minimiser les noeuds supplémentaires
    dist = gs_lin.project_node(station, gr, proxi, edge_attr)
    if not dist:
        geo_st = gs_lin.nodes[station]['geometry'].centroid
        id_edge = gr.find_nearest_edge(geo_st, proxi) # recheche d'un troncon à moins de 3 km
        if not id_edge: 
            continue 
        # on ajoute un noeud et on crée le lien 
        id_node = int(max(cast_id(gr.nodes, only_int=True)) + 1)
        gr.insert_node(geo_st, id_node, id_edge, adjust=False) 
        dis1 = geo_st.distance(gr.nodes[id_node]['geometry'])
        geo1 = LineString([gr.nodes[id_node]['geometry'], geo_st])
        gs_lin.add_edge(id_node, station, **(edge_attr | {'geometry':geo1, 'weight': dis1})) # ajout du lien entre la station et le noeud routier

# regroupement des deux réseaux
gs = gnx.compose(gs_noeuds, gs_lin)





param_exp_gs = {'e_tooltip': ["source", "target"], 'e_popup': ['type', 'weight', 'source', 'target'], 'e_color': 'grey',
                'n_name': 'station', 'e_name': 'liaison station', 'n_popup': ['amenageur', 'p_cum', 'node_id', 'id_station'], 
                'n_tooltip': "amenageur", 'n_color': 'green', 'n_marker_kwds': {'radius': 4, 'fill': True}}
param_exp_gr = {'e_name': 'edges', 'n_name': 'nodes', 'e_popup': ['weight', 'source', 'target'], 'e_tooltip': ["source", "target"], 
                'n_tooltip': ["node_id"], 'n_marker_kwds': {'radius': 1, 'fill': False}}
carte = gs.explore(refmap=refnat, **param_exp_gs)
carte = gr.explore(refmap=carte, layercontrol=True, n_color='black', **param_exp_gr)
carte





g_tot = gnx.compose(gr, gs) # réunion des deux graphes





nx.shortest_path_length(g_tot, source='st1284', target='st1505', weight='weight')


path = nx.shortest_path(g_tot, source='st1284', target='st1505', weight='weight')
gr_path = nx.subgraph_view(g_tot, filter_node=(lambda x: x in path))


param_exp_path = {'e_name': 'path', 'e_color': 'red'}
refmap = {'tiles': 'cartodbpositron', 'location': [43.8, 5], 'zoom_start': 9}

carte = gs.explore(refmap=refmap, **param_exp_gs)
carte = gr.explore(refmap=carte, **param_exp_gr)
carte = gr_path.explore(refmap=carte, layercontrol=True, nodes=False, **param_exp_path)
carte





seuil = 50000
saturation = []
g_tot.add_node('st1657', non_sature=False) # saturation d'une station (Briancon)
for edge in gr.edges:
    inter_st = g_tot.weight_extend(edge, gs, radius=seuil, n_attribute='dist_stat3', n_active='non_sature')
    if not inter_st or inter_st > 2 * seuil :
        saturation.append(edge)
gr_satur = nx.subgraph_view(g_tot, filter_edge=(lambda x1, x2: (x1, x2) in saturation))


param_exp_path = {'e_name': 'saturation', 'e_color': 'red'}
refmap = {'tiles': 'cartodbpositron', 'location': [43.8, 5], 'zoom_start': 9}

carte = gs.explore(refmap=refnat, **param_exp_gs)
carte = gr.explore(refmap=carte, **param_exp_gr)
carte = gr_satur.explore(refmap=carte, layercontrol=True, nodes=False, **param_exp_path)
carte
