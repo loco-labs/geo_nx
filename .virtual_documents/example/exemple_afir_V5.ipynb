


import os
import sys

new_path = os.getcwd()[:-8]
sys.path.append(new_path)

import json
from shapely import LineString, Point
import numpy as np
import geopandas as gpd
import pandas as pd
import geo_nx as gnx 
import networkx as nx 

from geo_nx import geom_to_crs, cast_id 

refnat = {'tiles': 'cartodbpositron', 'location': [46.3, 2.3], 'zoom_start': 7}





rtet = gpd.read_file("./roads_GL2017_Council_FR/roads_GL2017_Council_FR.shp").to_crs(2154)
gr = gnx.from_geopandas_edgelist(rtet, edge_attr=["GEO_LENGTH", "ID", "geometry"])
nx.set_node_attributes(gr, "connecteur", name="nature")


rtet


gr.explore(refmap=refnat, n_color='purple')


def insertion_noeuds(noeuds, gr, proxi, att_node):
    '''insertion de 'noeuds' sur le graph 'gr'et retourne le graphe des 'noeuds' '''
    troncons = gr.to_geopandas_edgelist()
    join = gpd.sjoin(noeuds, troncons.set_geometry(troncons.buffer(proxi))) # filtrage des tronçons
    noeuds_ok = noeuds[noeuds.index.isin(join.index)]
    gs_noeuds = gnx.from_geopandas_nodelist(noeuds_ok, node_attr=True) # réseau des noeuds supplémentaires
    # à vectoriser
    for noeuds in gs_noeuds:
        geo_st = gs_noeuds.nodes[noeuds]['geometry']
        id_edge = gr.find_nearest_edge(geo_st, proxi) # recherche du troncon le plus proche
        id_node = int(max(cast_id(gr.nodes, only_int=True)) + 1)
        gr.insert_node(geo_st, id_node, id_edge, att_node=att_node, adjust=False) # ajout du noeud     
    return gs_noeuds





proxi_geo = 100 # distance maximale au réseau routier 

noeuds_ech = gpd.read_file("noeuds_ech.geojson").to_crs(2154)
gs_noeuds_ech = insertion_noeuds(noeuds_ech, gr, proxi_geo, {'nature': 'echangeur'})

noeuds_rp = gpd.read_file("noeuds_rp.geojson").to_crs(2154)
gs_noeuds_rp = insertion_noeuds(noeuds_rp, gr, proxi_geo, {'nature': 'rond-point'})





asfa = pd.read_csv("asfa.csv")
asfa['geometry'] = asfa['coords'].map(json.loads).map(lambda x: [x[1], x[0]]).map(Point)
asfa['nature'] = 'aire de service'
asfa_gpd = gpd.GeoDataFrame(asfa, crs='4326').to_crs(2154)

noeuds_as = asfa_gpd.loc[asfa_gpd['type']=='AS', ['nom', 'nature', 'geometry']].copy()
gs_noeuds_as = insertion_noeuds(noeuds_as, gr, proxi_geo, {'nature': 'aire de service'})





param_exp_ech = {'n_name': 'echangeurs', 'n_color': 'blue', 'n_marker_kwds': {'radius': 3, 'fill': True}}
param_exp_rp = {'n_name': 'rond-points', 'n_color': 'purple', 'n_marker_kwds': {'radius': 3, 'fill': True}}
param_exp_as = {'n_name': 'aire de service', 'n_color': 'red', 'n_marker_kwds': {'radius': 3, 'fill': True}}
param_exp_gr = {'e_name': 'edges', 'n_name': 'nodes', 'e_popup': ['weight', 'source', 'target'], 'e_tooltip': ["source", "target"], 
                'n_tooltip': ["node_id", "nature"], 'n_marker_kwds': {'radius': 1, 'fill': False}}
carte = gs_noeuds_ech.explore(refmap=refnat, edges=False, **param_exp_ech)
carte = gs_noeuds_rp.explore(refmap=carte, edges=False, **param_exp_rp)
carte = gs_noeuds_as.explore(refmap=carte, edges=False, **param_exp_as)
carte = gr.explore(refmap=carte, layercontrol=True, n_color='black', **param_exp_gr)
carte





# Chargement des points de recharge de la consolidation Gireve
csl = pd.read_csv("csl_gireve202407.csv", sep=";", encoding="latin")
csl["puissance_nominale"] = csl["puissance_nominale"].astype(float)

# Les stations respectant les critères AFIR sont obtenues après un groupby sur les coordonnées
stations = csl.groupby("coordonneesXY").agg(
    p_max = ("puissance_nominale", "max"), 
    p_cum = ("puissance_nominale", "sum"),
    id_station = ("id_pdc_regroupement", "first"),
    amenageur = ("nom_amenageur", "first"),
    operateur = ("nom_operateur", "first"))
stations_afir = stations[(stations["p_max"] > 150) & (stations["p_cum"] > 300)].copy().reset_index()
stations_afir['geometry'] = stations_afir["coordonneesXY"].apply(lambda x: Point(str.split(x, ',')))
stations_afir = gpd.GeoDataFrame(stations_afir, crs=4326).to_crs(2154)
stations_afir['node_id'] = ["st" + str(idx) for idx in range(len(stations_afir))]
stations_afir['nature'] = 'station_irve'
stations_afir





high_proxi_t = 100 
high_proxi_n = 300
low_proxi = 2000

def proximite(noeuds_ext, cible, proxi):
    '''sépare les noeuds proches (distance < proxi) et non proches''' 
    st_join = gpd.sjoin(noeuds_ext, cible.set_geometry(cible.buffer(proxi)))
    st_ok = noeuds_ext.index.isin(st_join.index)
    return (noeuds_ext[st_ok], noeuds_ext[~st_ok])

noeuds = gr.to_geopandas_nodelist()
noeuds_st = noeuds.loc[noeuds['nature']=='aire de service']
troncons = gr.to_geopandas_edgelist()

st_afir_proxi, st_afir_out = proximite(stations_afir, troncons, low_proxi)
st_afir_high_proxi_n, st_afir_proxi_t = proximite(st_afir_proxi, noeuds_st, high_proxi_n)
st_afir_high_proxi_t, st_afir_low_proxi = proximite(st_afir_proxi_t, troncons, high_proxi_t)

print('Nb stations (st, pre_st, ext, out, total) : ', len(st_afir_high_proxi_n), len(st_afir_high_proxi_t), len(st_afir_low_proxi), len(st_afir_out), len(stations_afir))





node_attr = ['amenageur', 'p_cum', 'id_station', 'nature']
edge_attr = {'type': 'st_irve'}

def insertion_projection(nodes_ext, node_attr, edge_attr, gr, proxi, att_insert_node):
    '''création du graphe des stations avec projection sur des noeuds inserés dans le graphe 'gr' '''
    gr_ext = gnx.from_geopandas_nodelist(nodes_ext, node_id='node_id', node_attr=node_attr)
    stations = list(nodes_ext['node_id'])
    st_ko =[]
    for station in stations: # à vectoriser
        dist = gr_ext.project_node(station, gr, proxi, att_edge=edge_attr)
        if not dist:
            geo_st = gr_ext.nodes[station]['geometry']
            id_edge = gr.find_nearest_edge(geo_st, high_proxi_t)
            if not id_edge: 
                st_ko.append(station)
                print('ko')
                continue 
            # on ajoute un noeud et on crée le lien 
            id_node = int(max(cast_id(gr.nodes, only_int=True)) + 1)
            dis = gr.insert_node(geo_st, id_node, id_edge, att_node=att_insert_node, adjust=False) 
            if not dis: # cas à clarifier  
                st_ko.append(station)
                print(id_node, id_edge, geo_st)
                continue
            gr_ext.project_node(station, gr, 0, target_node=id_node, att_edge=edge_attr)
    return gr_ext, st_ko
    

# IRVE très proches des stations
gs_st, st_ko = gnx.project_graph(st_afir_high_proxi_n, noeuds, high_proxi_n, node_attr, edge_attr)
print(len(st_ko))

# IRVE proches d'un tronçon
filter = (noeuds['nature']=='echangeur') | (noeuds['nature']=='rond-point')
gs_ext, st_ko = gnx.project_graph(st_afir_low_proxi, noeuds.loc[filter], low_proxi, node_attr, edge_attr)
print(len(st_ko))

# IRVE très proches d'un tronçon
att_insert = {'nature': 'aire de recharge'}
gs_pre_st, st_ko = insertion_projection(st_afir_high_proxi_t, node_attr, edge_attr, gr, high_proxi_t, att_insert)
print(len(st_ko))





param_exp_nd = {'n_marker_kwds': {'radius': 3, 'fill': True}}
param_exp_gs = {'e_tooltip': ["source", "target"], 'e_popup': ['type', 'weight', 'source', 'target'], 'e_color': 'grey',
                'n_name': 'station', 'e_name': 'liaison station', 'n_popup': ['amenageur', 'p_cum', 'node_id', 'id_station'], 
                'n_tooltip': "amenageur", 'n_color': 'green', 'n_marker_kwds': {'radius': 4, 'fill': True}}
param_exp_gr = {'e_name': 'edges', 'n_name': 'nodes', 'e_popup': ['weight', 'source', 'target'], 'e_tooltip': ["source", "target"], 
                'n_tooltip': ["node_id", "nature"], 'n_marker_kwds': {'radius': 1, 'fill': False}}

carte = gs_st.explore(refmap=refnat, n_color='green', n_name='aire de service', **param_exp_nd)
carte = gs_pre_st.explore(refmap=carte, n_color='red', n_name='aire de recharge', **param_exp_nd)
carte = gs_ext.explore(refmap=carte, n_color='purple', n_name='stations extérieures', **param_exp_nd)
carte = gr.explore(refmap=carte, layercontrol=True, n_color='black', **param_exp_gr)
carte


gs = gnx.compose(gs_st, gs_pre_st)
gs = gnx.compose(gs, gs_ext)

g_tot = gnx.compose(gr, gs) # réunion des deux graphes








print('distance entre les stations : ')
nx.shortest_path_length(g_tot, source='st1284', target='st1505', weight='weight')


path = nx.shortest_path(g_tot, source='st1284', target='st1505', weight='weight')
gr_path = nx.subgraph_view(g_tot, filter_node=(lambda x: x in path))


param_exp_path = {'e_name': 'path', 'e_color': 'red'}
refmap = {'tiles': 'cartodbpositron', 'location': [43.8, 5], 'zoom_start': 9}

carte = gs.explore(refmap=refmap, **param_exp_gs)
carte = gr.explore(refmap=carte, **param_exp_gr)
carte = gr_path.explore(refmap=carte, layercontrol=True, nodes=False, **param_exp_path)
carte





seuil = 60000
non_sature = 'non_sature'

def analyse_saturation(gr_ext, gr, non_sature, seuil): 
    '''identifie les tronçons qui ont au moins un point à une distance supérieure à 'seuil' de la plus proche station non saturée''' 
    saturation = []
    gr_stat_satur = nx.subgraph_view(gr, filter_node=(lambda x: not gr.nodes[x].get(non_sature, True)))
    gr_ext_st = nx.subgraph_view(gr_ext, filter_node=(lambda x: isinstance(x, str) and x[:2] == 'st'))
    for edge in gr.edges:
        dist_inter_st = gr.weight_extend(edge, gr_ext_st, radius=seuil, n_attribute='dist_node_ext', n_active=non_sature)
        if not dist_inter_st or dist_inter_st > 2 * seuil :
            saturation.append(edge)
    gr_satur = nx.subgraph_view(gr, filter_edge=(lambda x1, x2: (x1, x2) in saturation))
    return gr_stat_satur, gr_satur

g_tot.add_node('st1657', non_sature=False) # saturation d'une station (Gap)
gr_stat_satur, gr_satur = analyse_saturation(gs, g_tot, non_sature, seuil)


param_sat = {'e_name': 'saturation', 'e_color': 'red', 'n_color': 'red'}
refmap = {'tiles': 'cartodbpositron', 'location': [43.8, 5], 'zoom_start': 9}

carte = gs.explore(refmap=refnat, **param_exp_gs)
carte = gr.explore(refmap=carte, **param_exp_gr)
carte = gr_stat_satur.explore(refmap=carte, **param_sat)
carte = gr_satur.explore(refmap=carte, layercontrol=True, nodes=False, **param_sat)
carte





asfa = pd.read_csv("asfa.csv")
asfa['geometry'] = asfa['coords'].map(json.loads).map(lambda x: [x[1], x[0]]).map(Point)
asfa['nature'] = 'aire de service'
asfa_gpd = gpd.GeoDataFrame(asfa, crs='4326').to_crs(2154)
asfa_as = asfa_gpd.loc[asfa_gpd['type']=='AS', ['nom', 'nature', 'geometry']].copy()
gs_asfa = gnx.from_geopandas_nodelist(asfa_as, node_attr=True)


param_exp_nd = {'n_marker_kwds': {'radius': 3, 'fill': True}}
param_exp_gr = {'e_name': 'edges', 'n_name': 'nodes', 'e_popup': ['weight', 'source', 'target'], 'e_tooltip': ["source", "target"], 
                'n_tooltip': ["node_id", "nature"], 'n_marker_kwds': {'radius': 1, 'fill': False}}

carte = gs_asfa.explore(refmap=refnat, n_color='red', n_name='asfa', **param_exp_nd)
carte = gr.explore(refmap=carte, layercontrol=True, n_color='black', **param_exp_gr)
carte








aires = gpd.read_file("./BDCARTO/noeuds_aires.geojson").to_crs(2154)
aires['node_id'] = ["ai" + str(idx) for idx in range(len(aires))]
gs_aires = gnx.from_geopandas_nodelist(aires, node_id='node_id', node_attr=True)


param_exp_nd = {'n_marker_kwds': {'radius': 3, 'fill': True}}
param_exp_as = {'n_name': 'aire de service', 'n_color': 'green', 'n_marker_kwds': {'radius': 3, 'fill': True}}
param_exp_gr = {'e_name': 'edges', 'n_name': 'nodes', 'e_popup': ['weight', 'source', 'target'], 'e_tooltip': ["source", "target"], 
                'n_tooltip': ["node_id", "nature"], 'n_marker_kwds': {'radius': 1, 'fill': False}}
carte = gs_aires.explore(refmap=refnat, edges=False, **param_exp_as)
carte = gs_asfa.explore(refmap=carte, n_color='red', n_name='asfa', **param_exp_nd)
carte = gr.explore(refmap=carte, layercontrol=True, n_color='black', **param_exp_gr)
carte
